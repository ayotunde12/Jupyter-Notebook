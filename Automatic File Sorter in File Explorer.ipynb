{
 "cells": [
  {
   "cell_type": "markdown",
   "id": "e5a156f6",
   "metadata": {},
   "source": [
    "# Automatic File Sorter in File Explorer"
   ]
  },
  {
   "cell_type": "code",
   "execution_count": 6,
   "id": "4ad8daa7",
   "metadata": {},
   "outputs": [],
   "source": [
    "import os, shutil"
   ]
  },
  {
   "cell_type": "code",
   "execution_count": 7,
   "id": "73e07f45",
   "metadata": {},
   "outputs": [],
   "source": [
    "path = r'C:/Users/AYOTUNDE/Pictures/Adobe/'"
   ]
  },
  {
   "cell_type": "code",
   "execution_count": 8,
   "id": "c7d32db7",
   "metadata": {},
   "outputs": [],
   "source": [
    "file_name = os.listdir(path)"
   ]
  },
  {
   "cell_type": "code",
   "execution_count": 4,
   "id": "068921d8",
   "metadata": {},
   "outputs": [],
   "source": [
    "folder_names = ['psd files', 'jpeg files']\n",
    "\n",
    "for loop in range(0,2):\n",
    "    if not os.path.exists(path + folder_names[loop]):\n",
    "        os.makedirs(path + folder_names[loop])\n",
    "    \n",
    "    "
   ]
  },
  {
   "cell_type": "code",
   "execution_count": 11,
   "id": "5d907f9d",
   "metadata": {},
   "outputs": [],
   "source": [
    "for file in file_name:\n",
    "    if '.psd' in file and not os.path.exists(path + 'psd files/' + file):\n",
    "        shutil.move(path + file, path + 'psd files/' + file)\n",
    "    if '.jpg' in file and not os.path.exists(path + 'jpeg files/' + file):\n",
    "        shutil.move(path + file, path + 'jpeg files/' + file)"
   ]
  },
  {
   "cell_type": "code",
   "execution_count": null,
   "id": "7dd061c0",
   "metadata": {},
   "outputs": [],
   "source": []
  },
  {
   "cell_type": "code",
   "execution_count": null,
   "id": "cb70e5c7",
   "metadata": {},
   "outputs": [],
   "source": []
  }
 ],
 "metadata": {
  "kernelspec": {
   "display_name": "Python 3 (ipykernel)",
   "language": "python",
   "name": "python3"
  },
  "language_info": {
   "codemirror_mode": {
    "name": "ipython",
    "version": 3
   },
   "file_extension": ".py",
   "mimetype": "text/x-python",
   "name": "python",
   "nbconvert_exporter": "python",
   "pygments_lexer": "ipython3",
   "version": "3.9.12"
  }
 },
 "nbformat": 4,
 "nbformat_minor": 5
}
